{
 "cells": [
  {
   "cell_type": "markdown",
   "metadata": {},
   "source": [
    "# Evaluation"
   ]
  },
  {
   "cell_type": "code",
   "execution_count": 152,
   "metadata": {},
   "outputs": [],
   "source": [
    "import numpy as np\n",
    "import pandas as pd\n",
    "import matplotlib.pyplot as plt"
   ]
  },
  {
   "cell_type": "code",
   "execution_count": 197,
   "metadata": {},
   "outputs": [],
   "source": [
    "np.random.seed(45)"
   ]
  },
  {
   "cell_type": "code",
   "execution_count": 198,
   "metadata": {},
   "outputs": [
    {
     "name": "stdout",
     "output_type": "stream",
     "text": [
      "df_iris.shape: (150, 5)\n"
     ]
    }
   ],
   "source": [
    "df_iris = pd.read_csv('iris.csv')\n",
    "print(\"df_iris.shape: {}\".format(df_iris.shape))"
   ]
  },
  {
   "cell_type": "code",
   "execution_count": 199,
   "metadata": {},
   "outputs": [
    {
     "data": {
      "text/html": [
       "<div>\n",
       "<style scoped>\n",
       "    .dataframe tbody tr th:only-of-type {\n",
       "        vertical-align: middle;\n",
       "    }\n",
       "\n",
       "    .dataframe tbody tr th {\n",
       "        vertical-align: top;\n",
       "    }\n",
       "\n",
       "    .dataframe thead th {\n",
       "        text-align: right;\n",
       "    }\n",
       "</style>\n",
       "<table border=\"1\" class=\"dataframe\">\n",
       "  <thead>\n",
       "    <tr style=\"text-align: right;\">\n",
       "      <th></th>\n",
       "      <th>sepal_length</th>\n",
       "      <th>sepal_width</th>\n",
       "      <th>petal_length</th>\n",
       "      <th>petal_width</th>\n",
       "      <th>species</th>\n",
       "    </tr>\n",
       "  </thead>\n",
       "  <tbody>\n",
       "    <tr>\n",
       "      <th>0</th>\n",
       "      <td>5.1</td>\n",
       "      <td>3.5</td>\n",
       "      <td>1.4</td>\n",
       "      <td>0.2</td>\n",
       "      <td>setosa</td>\n",
       "    </tr>\n",
       "    <tr>\n",
       "      <th>1</th>\n",
       "      <td>4.9</td>\n",
       "      <td>3.0</td>\n",
       "      <td>1.4</td>\n",
       "      <td>0.2</td>\n",
       "      <td>setosa</td>\n",
       "    </tr>\n",
       "    <tr>\n",
       "      <th>2</th>\n",
       "      <td>4.7</td>\n",
       "      <td>3.2</td>\n",
       "      <td>1.3</td>\n",
       "      <td>0.2</td>\n",
       "      <td>setosa</td>\n",
       "    </tr>\n",
       "    <tr>\n",
       "      <th>3</th>\n",
       "      <td>4.6</td>\n",
       "      <td>3.1</td>\n",
       "      <td>1.5</td>\n",
       "      <td>0.2</td>\n",
       "      <td>setosa</td>\n",
       "    </tr>\n",
       "    <tr>\n",
       "      <th>4</th>\n",
       "      <td>5.0</td>\n",
       "      <td>3.6</td>\n",
       "      <td>1.4</td>\n",
       "      <td>0.2</td>\n",
       "      <td>setosa</td>\n",
       "    </tr>\n",
       "  </tbody>\n",
       "</table>\n",
       "</div>"
      ],
      "text/plain": [
       "   sepal_length  sepal_width  petal_length  petal_width species\n",
       "0           5.1          3.5           1.4          0.2  setosa\n",
       "1           4.9          3.0           1.4          0.2  setosa\n",
       "2           4.7          3.2           1.3          0.2  setosa\n",
       "3           4.6          3.1           1.5          0.2  setosa\n",
       "4           5.0          3.6           1.4          0.2  setosa"
      ]
     },
     "execution_count": 199,
     "metadata": {},
     "output_type": "execute_result"
    }
   ],
   "source": [
    "df_iris.head()"
   ]
  },
  {
   "cell_type": "code",
   "execution_count": 200,
   "metadata": {},
   "outputs": [],
   "source": [
    "df_iris = df_iris.iloc[:100]"
   ]
  },
  {
   "cell_type": "code",
   "execution_count": 201,
   "metadata": {},
   "outputs": [
    {
     "data": {
      "text/html": [
       "<div>\n",
       "<style scoped>\n",
       "    .dataframe tbody tr th:only-of-type {\n",
       "        vertical-align: middle;\n",
       "    }\n",
       "\n",
       "    .dataframe tbody tr th {\n",
       "        vertical-align: top;\n",
       "    }\n",
       "\n",
       "    .dataframe thead th {\n",
       "        text-align: right;\n",
       "    }\n",
       "</style>\n",
       "<table border=\"1\" class=\"dataframe\">\n",
       "  <thead>\n",
       "    <tr style=\"text-align: right;\">\n",
       "      <th></th>\n",
       "      <th>sepal_length</th>\n",
       "      <th>sepal_width</th>\n",
       "      <th>petal_length</th>\n",
       "      <th>petal_width</th>\n",
       "      <th>species</th>\n",
       "    </tr>\n",
       "  </thead>\n",
       "  <tbody>\n",
       "    <tr>\n",
       "      <th>0</th>\n",
       "      <td>5.1</td>\n",
       "      <td>3.5</td>\n",
       "      <td>1.4</td>\n",
       "      <td>0.2</td>\n",
       "      <td>0</td>\n",
       "    </tr>\n",
       "    <tr>\n",
       "      <th>1</th>\n",
       "      <td>4.9</td>\n",
       "      <td>3.0</td>\n",
       "      <td>1.4</td>\n",
       "      <td>0.2</td>\n",
       "      <td>0</td>\n",
       "    </tr>\n",
       "    <tr>\n",
       "      <th>2</th>\n",
       "      <td>6.0</td>\n",
       "      <td>2.2</td>\n",
       "      <td>4.0</td>\n",
       "      <td>1.0</td>\n",
       "      <td>1</td>\n",
       "    </tr>\n",
       "    <tr>\n",
       "      <th>3</th>\n",
       "      <td>6.8</td>\n",
       "      <td>2.8</td>\n",
       "      <td>4.8</td>\n",
       "      <td>1.4</td>\n",
       "      <td>1</td>\n",
       "    </tr>\n",
       "    <tr>\n",
       "      <th>4</th>\n",
       "      <td>4.9</td>\n",
       "      <td>3.1</td>\n",
       "      <td>1.5</td>\n",
       "      <td>0.1</td>\n",
       "      <td>0</td>\n",
       "    </tr>\n",
       "  </tbody>\n",
       "</table>\n",
       "</div>"
      ],
      "text/plain": [
       "   sepal_length  sepal_width  petal_length  petal_width  species\n",
       "0           5.1          3.5           1.4          0.2        0\n",
       "1           4.9          3.0           1.4          0.2        0\n",
       "2           6.0          2.2           4.0          1.0        1\n",
       "3           6.8          2.8           4.8          1.4        1\n",
       "4           4.9          3.1           1.5          0.1        0"
      ]
     },
     "execution_count": 201,
     "metadata": {},
     "output_type": "execute_result"
    }
   ],
   "source": [
    "df_iris = df_iris.sample(frac=1).reset_index(drop=True)\n",
    "df_iris['species'] = df_iris['species'].astype('category').cat.codes\n",
    "df_iris.head()"
   ]
  },
  {
   "cell_type": "code",
   "execution_count": 202,
   "metadata": {},
   "outputs": [
    {
     "name": "stdout",
     "output_type": "stream",
     "text": [
      "X_train.shape: (67, 2)\n",
      "Y_train.shape: (67,)\n",
      "X_test.shape: (33, 2)\n",
      "Y_test.shape: (33,)\n"
     ]
    }
   ],
   "source": [
    "X_train = df_iris[['sepal_length', 'sepal_width']][:67].values\n",
    "Y_train = df_iris['species'][:67]\n",
    "\n",
    "X_test = df_iris[['sepal_length', 'sepal_width']][67:].values\n",
    "Y_test = df_iris['species'][67:]\n",
    "\n",
    "print(\"X_train.shape: {}\".format(X_train.shape))\n",
    "print(\"Y_train.shape: {}\".format(Y_train.shape))\n",
    "print(\"X_test.shape: {}\".format(X_test.shape))\n",
    "print(\"Y_test.shape: {}\".format(Y_test.shape))"
   ]
  },
  {
   "cell_type": "markdown",
   "metadata": {},
   "source": [
    "##  Not perfect classification"
   ]
  },
  {
   "cell_type": "code",
   "execution_count": 203,
   "metadata": {},
   "outputs": [],
   "source": [
    "from sklearn.linear_model import SGDClassifier"
   ]
  },
  {
   "cell_type": "code",
   "execution_count": 204,
   "metadata": {},
   "outputs": [],
   "source": [
    "clf = SGDClassifier(verbose=4, max_iter=3)"
   ]
  },
  {
   "cell_type": "code",
   "execution_count": 205,
   "metadata": {},
   "outputs": [
    {
     "name": "stdout",
     "output_type": "stream",
     "text": [
      "-- Epoch 1\n",
      "Norm: 119.68, NNZs: 2, Bias: -19.257223, T: 67, Avg. loss: 66.478490\n",
      "Total training time: 0.00 seconds.\n",
      "-- Epoch 2\n",
      "Norm: 166.74, NNZs: 2, Bias: -19.194926, T: 134, Avg. loss: 31.188802\n",
      "Total training time: 0.00 seconds.\n",
      "-- Epoch 3\n",
      "Norm: 229.97, NNZs: 2, Bias: -27.896425, T: 201, Avg. loss: 27.636624\n",
      "Total training time: 0.00 seconds.\n"
     ]
    },
    {
     "data": {
      "text/plain": [
       "SGDClassifier(alpha=0.0001, average=False, class_weight=None, epsilon=0.1,\n",
       "       eta0=0.0, fit_intercept=True, l1_ratio=0.15,\n",
       "       learning_rate='optimal', loss='hinge', max_iter=3, n_iter=None,\n",
       "       n_jobs=1, penalty='l2', power_t=0.5, random_state=None,\n",
       "       shuffle=True, tol=None, verbose=4, warm_start=False)"
      ]
     },
     "execution_count": 205,
     "metadata": {},
     "output_type": "execute_result"
    }
   ],
   "source": [
    "clf.fit(X_train, Y_train)"
   ]
  },
  {
   "cell_type": "code",
   "execution_count": 206,
   "metadata": {},
   "outputs": [],
   "source": [
    "h = 0.01\n",
    "x_min, x_max = X_train[:, 0].min()-1, X_train[:, 0].max()+1\n",
    "y_min, y_max = X_train[:, 1].min()-1, X_train[:, 1].max()+1\n",
    "xx, yy = np.meshgrid(np.arange(x_min, x_max, h),\n",
    "                     np.arange(y_min, y_max, h))"
   ]
  },
  {
   "cell_type": "code",
   "execution_count": 207,
   "metadata": {},
   "outputs": [
    {
     "data": {
      "text/plain": [
       "array([[5.1, 3.5],\n",
       "       [4.9, 3. ],\n",
       "       [4.9, 3.1],\n",
       "       [4.4, 3. ],\n",
       "       [4.7, 3.2],\n",
       "       [5. , 3.4],\n",
       "       [5.5, 4.2],\n",
       "       [5. , 3.6],\n",
       "       [5. , 3.4],\n",
       "       [5.4, 3.7],\n",
       "       [4.8, 3. ],\n",
       "       [4.9, 3.1],\n",
       "       [5.4, 3.4],\n",
       "       [5.7, 3.8],\n",
       "       [5.1, 3.8],\n",
       "       [5. , 3. ],\n",
       "       [5.1, 3.7],\n",
       "       [5.1, 3.3],\n",
       "       [4.7, 3.2],\n",
       "       [5.4, 3.9],\n",
       "       [5.2, 3.4],\n",
       "       [5. , 3.5],\n",
       "       [5.1, 3.8],\n",
       "       [5.2, 3.5],\n",
       "       [5.1, 3.4],\n",
       "       [4.6, 3.6],\n",
       "       [4.5, 2.3],\n",
       "       [5.3, 3.7],\n",
       "       [4.6, 3.2],\n",
       "       [5.4, 3.9],\n",
       "       [4.3, 3. ],\n",
       "       [5. , 3.3],\n",
       "       [5. , 3.5],\n",
       "       [4.8, 3.4],\n",
       "       [4.4, 3.2],\n",
       "       [4.6, 3.4]])"
      ]
     },
     "execution_count": 207,
     "metadata": {},
     "output_type": "execute_result"
    }
   ],
   "source": [
    "X_train[Y_train == 0]"
   ]
  },
  {
   "cell_type": "code",
   "execution_count": 208,
   "metadata": {},
   "outputs": [
    {
     "data": {
      "text/plain": [
       "<matplotlib.contour.QuadContourSet at 0x1235e4710>"
      ]
     },
     "execution_count": 208,
     "metadata": {},
     "output_type": "execute_result"
    },
    {
     "data": {
      "image/png": "[encoded data removed]",
      "text/plain": [
       "<Figure size 432x288 with 1 Axes>"
      ]
     },
     "metadata": {},
     "output_type": "display_data"
    }
   ],
   "source": [
    "Z = clf.predict(np.c_[xx.ravel(), yy.ravel()])\n",
    "Z = Z.reshape(xx.shape)\n",
    "plt.plot(X_train[Y_train == 0][:, 0], X_train[Y_train == 0][:, 1], 'rx', label='Train')\n",
    "plt.plot(X_train[Y_train == 1][:, 0], X_train[Y_train == 1][:, 1], 'bx')\n",
    "plt.plot(X_test[Y_test == 0][:, 0], X_test[Y_test == 0][:, 1], 'ro', label='Test')\n",
    "plt.plot(X_test[Y_test == 1][:, 0], X_test[Y_test == 1][:, 1], 'bo')\n",
    "plt.legend()\n",
    "plt.contourf(xx, yy, Z, cmap=plt.cm.Pastel1, alpha=0.8)"
   ]
  },
  {
   "cell_type": "markdown",
   "metadata": {},
   "source": [
    "## Accuracy"
   ]
  },
  {
   "cell_type": "code",
   "execution_count": 209,
   "metadata": {},
   "outputs": [
    {
     "name": "stdout",
     "output_type": "stream",
     "text": [
      "X_test.shape: (33, 2)\n",
      "Y_test.shape: (33,)\n"
     ]
    }
   ],
   "source": [
    "print(\"X_test.shape: {}\".format(X_test.shape))\n",
    "print(\"Y_test.shape: {}\".format(Y_test.shape))"
   ]
  },
  {
   "cell_type": "code",
   "execution_count": 216,
   "metadata": {},
   "outputs": [
    {
     "name": "stdout",
     "output_type": "stream",
     "text": [
      "train accuracy: 0.8955223880597015\n",
      "test accuracy: 0.8484848484848485\n"
     ]
    }
   ],
   "source": [
    "train_accuracy = np.mean(Y_train == clf.predict(X_train))\n",
    "test_accuracy = np.mean(Y_test == clf.predict(X_test))\n",
    "\n",
    "print(\"train accuracy: {}\".format(train_accuracy))\n",
    "print(\"test accuracy: {}\".format(test_accuracy))"
   ]
  },
  {
   "cell_type": "code",
   "execution_count": 217,
   "metadata": {},
   "outputs": [
    {
     "name": "stdout",
     "output_type": "stream",
     "text": [
      "train accuracy: 0.8955223880597015\n",
      "test accuracy: 0.8484848484848485\n"
     ]
    }
   ],
   "source": [
    "from sklearn.metrics import accuracy_score\n",
    "\n",
    "print(\"train accuracy: {}\".format(accuracy_score(Y_train, clf.predict(X_train))))\n",
    "print(\"test accuracy: {}\".format(accuracy_score(Y_test, clf.predict(X_test))))"
   ]
  },
  {
   "cell_type": "markdown",
   "metadata": {},
   "source": [
    "## Presicion & recall"
   ]
  },
  {
   "cell_type": "code",
   "execution_count": 251,
   "metadata": {},
   "outputs": [
    {
     "name": "stdout",
     "output_type": "stream",
     "text": [
      "train precision for blue: 0.8157894736842105\n",
      "test precision for blue: 0.7916666666666666\n"
     ]
    }
   ],
   "source": [
    "Y_pred_train = clf.predict(X_train)\n",
    "train_precision_red = np.sum((Y_pred_train == 1) & (Y_train == 1)) / np.sum(Y_pred_train == 1)\n",
    "Y_pred_test = clf.predict(X_test)\n",
    "test_precision_red = np.sum((Y_pred_test == 1) & (Y_test == 1)) / np.sum(Y_pred_test == 1)\n",
    "\n",
    "print(\"train precision for blue: {}\".format(train_precision_red))\n",
    "print(\"test precision for blue: {}\".format(test_precision_red))"
   ]
  },
  {
   "cell_type": "code",
   "execution_count": 254,
   "metadata": {},
   "outputs": [
    {
     "name": "stdout",
     "output_type": "stream",
     "text": [
      "train recall for blue: 1.0\n",
      "test recall for blue: 1.0\n"
     ]
    }
   ],
   "source": [
    "Y_pred_train = clf.predict(X_train)\n",
    "train_recall_red = np.sum((Y_pred_train == 1) & (Y_train == 1)) / np.sum(Y_train == 1)\n",
    "Y_pred_test = clf.predict(X_test)\n",
    "test_recall_red = np.sum((Y_pred_test == 1) & (Y_test == 1)) / np.sum(Y_test == 1)\n",
    "\n",
    "print(\"train recall for blue: {}\".format(train_recall_red))\n",
    "print(\"test recall for blue: {}\".format(test_recall_red))"
   ]
  },
  {
   "cell_type": "code",
   "execution_count": 223,
   "metadata": {},
   "outputs": [
    {
     "name": "stdout",
     "output_type": "stream",
     "text": [
      "train precision for red: 1.0\n",
      "test precision for red: 1.0\n",
      "train precision for blue: 0.8157894736842105\n",
      "test precision for blue: 0.7916666666666666\n"
     ]
    }
   ],
   "source": [
    "from sklearn.metrics import precision_score\n",
    "\n",
    "print(\"train precision for blue: {}\".format(precision_score(Y_train, clf.predict(X_train), pos_label=1)))\n",
    "print(\"test precision for blue: {}\".format(precision_score(Y_test, clf.predict(X_test), pos_label=1)))"
   ]
  },
  {
   "cell_type": "code",
   "execution_count": 224,
   "metadata": {},
   "outputs": [
    {
     "name": "stdout",
     "output_type": "stream",
     "text": [
      "train recall for red: 0.8055555555555556\n",
      "test recall for red: 0.6428571428571429\n",
      "train recall for blue: 1.0\n",
      "test recall for blue: 1.0\n"
     ]
    }
   ],
   "source": [
    "from sklearn.metrics import recall_score\n",
    "\n",
    "print(\"train recall for blue: {}\".format(recall_score(Y_train, clf.predict(X_train), pos_label=1)))\n",
    "print(\"test recall for blue: {}\".format(recall_score(Y_test, clf.predict(X_test), pos_label=1)))"
   ]
  },
  {
   "cell_type": "code",
   "execution_count": null,
   "metadata": {},
   "outputs": [],
   "source": [
    "print(\"train precision for red: {}\".format(precision_score(Y_train, clf.predict(X_train), pos_label=0)))\n",
    "print(\"test precision for red: {}\".format(precision_score(Y_test, clf.predict(X_test), pos_label=0)))\n",
    "\n",
    "print(\"train recall for red: {}\".format(recall_score(Y_train, clf.predict(X_train), pos_label=0)))\n",
    "print(\"test recall for red: {}\".format(recall_score(Y_test, clf.predict(X_test), pos_label=0)))"
   ]
  },
  {
   "cell_type": "markdown",
   "metadata": {},
   "source": [
    "## ROC"
   ]
  },
  {
   "cell_type": "code",
   "execution_count": 280,
   "metadata": {},
   "outputs": [],
   "source": [
    "from sklearn.metrics import roc_curve, auc\n",
    "\n",
    "fpr, tpr, _ = roc_curve(Y_test, clf.predict(X_test), pos_label=1)\n",
    "roc_auc = auc(fpr, tpr)"
   ]
  },
  {
   "cell_type": "code",
   "execution_count": 281,
   "metadata": {},
   "outputs": [
    {
     "data": {
      "text/plain": [
       "<matplotlib.legend.Legend at 0x125218cc0>"
      ]
     },
     "execution_count": 281,
     "metadata": {},
     "output_type": "execute_result"
    },
    {
     "data": {
      "image/png": "[encoded data removed]",
      "text/plain": [
       "<Figure size 432x288 with 1 Axes>"
      ]
     },
     "metadata": {},
     "output_type": "display_data"
    }
   ],
   "source": [
    "plt.plot(fpr, tpr, label='ROC curve (area = %0.2f)'.format(roc_auc))\n",
    "plt.xlabel('False Positive Rate')\n",
    "plt.ylabel('True Positive Rate')\n",
    "plt.title('Receiver operating characteristic example')\n",
    "plt.legend(loc=\"lower right\")"
   ]
  }
 ],
 "metadata": {
  "kernelspec": {
   "display_name": "Python 3",
   "language": "python",
   "name": "python3"
  },
  "language_info": {
   "codemirror_mode": {
    "name": "ipython",
    "version": 3
   },
   "file_extension": ".py",
   "mimetype": "text/x-python",
   "name": "python",
   "nbconvert_exporter": "python",
   "pygments_lexer": "ipython3",
   "version": "3.6.3"
  }
 },
 "nbformat": 4,
 "nbformat_minor": 3
}
